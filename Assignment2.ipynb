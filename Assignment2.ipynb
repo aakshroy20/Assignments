{
  "nbformat": 4,
  "nbformat_minor": 0,
  "metadata": {
    "colab": {
      "name": "Assignment2",
      "provenance": []
    },
    "kernelspec": {
      "name": "python3",
      "display_name": "Python 3"
    }
  },
  "cells": [
    {
      "cell_type": "markdown",
      "metadata": {
        "id": "_0hpx9u4pgCa",
        "colab_type": "text"
      },
      "source": [
        "**Assignment 2**\n",
        "\n",
        "Task 1\n",
        "\n",
        "\n"
      ]
    },
    {
      "cell_type": "markdown",
      "metadata": {
        "id": "RqZckA-Kpovc",
        "colab_type": "text"
      },
      "source": [
        "**Q1.1**  Write a Python Program to implement your own myreduce() function which works exactly like\n",
        "Python's built-in function reduce()"
      ]
    },
    {
      "cell_type": "code",
      "metadata": {
        "id": "ac7w95MRpmW-",
        "colab_type": "code",
        "colab": {}
      },
      "source": [
        "def myreduce(anyfunc,sequence):\n",
        "  result=sequence[0]\n",
        "  for item in sequence:\n",
        "    result=anyfunc(result,item)\n",
        "\n",
        "  return result"
      ],
      "execution_count": 0,
      "outputs": []
    },
    {
      "cell_type": "markdown",
      "metadata": {
        "id": "Ln73XAslqL0-",
        "colab_type": "text"
      },
      "source": [
        "**Q1.2** Write a Python program to implement your own myfilter() function which works exactly like\n",
        "Python's built-in function filter()"
      ]
    },
    {
      "cell_type": "markdown",
      "metadata": {
        "id": "mxqIEb0opnIF",
        "colab_type": "text"
      },
      "source": [
        ""
      ]
    },
    {
      "cell_type": "code",
      "metadata": {
        "id": "yzQm46AuqK3e",
        "colab_type": "code",
        "colab": {}
      },
      "source": [
        "def myfilter(anyfunc,sequence):\n",
        "  result=[]\n",
        "  for item in sequence:\n",
        "    if(anyfunc(item)):\n",
        "      result.append(item)\n",
        "  return result"
      ],
      "execution_count": 0,
      "outputs": []
    },
    {
      "cell_type": "markdown",
      "metadata": {
        "id": "xQSd38XFrGus",
        "colab_type": "text"
      },
      "source": [
        "**Q2**Write List comprehensions to produce the following Lists\n",
        "\n",
        "['x', 'xx', 'xxx', 'xxxx', 'y', 'yy', 'yyy', 'yyyy', 'z', 'zz', 'zzz', 'zzzz']\n",
        "\n",
        "['x', 'y', 'z', 'xx', 'yy', 'zz', 'xx', 'yy', 'zz', 'xxxx', 'yyyy', 'zzzz']\n",
        "\n",
        "[[2], [3], [4], [3], [4], [5], [4], [5], [6]]\n",
        "\n",
        "[[2, 3, 4, 5], [3, 4, 5, 6], [4, 5, 6, 7], [5, 6, 7, 8]]\n",
        "\n",
        "[(1, 1), (2, 1), (3, 1), (1, 2), (2, 2), (3, 2), (1, 3), (2, 3), (3, 3)]"
      ]
    },
    {
      "cell_type": "code",
      "metadata": {
        "id": "jpjzYP2Aq9bM",
        "colab_type": "code",
        "outputId": "9f706c31-e871-4e6d-fd5f-a595523916e6",
        "colab": {
          "base_uri": "https://localhost:8080/",
          "height": 34
        }
      },
      "source": [
        "list1=['x','y','z']\n",
        "result=[i * num for i in list1 for num in range(1,5)]\n",
        "result\n"
      ],
      "execution_count": 0,
      "outputs": [
        {
          "output_type": "execute_result",
          "data": {
            "text/plain": [
              "['x', 'xx', 'xxx', 'xxxx', 'y', 'yy', 'yyy', 'yyyy', 'z', 'zz', 'zzz', 'zzzz']"
            ]
          },
          "metadata": {
            "tags": []
          },
          "execution_count": 5
        }
      ]
    },
    {
      "cell_type": "code",
      "metadata": {
        "id": "UObNQh-8vnO1",
        "colab_type": "code",
        "outputId": "2ab3aaee-2bb3-4cf7-cca8-ca042f06527f",
        "colab": {
          "base_uri": "https://localhost:8080/",
          "height": 34
        }
      },
      "source": [
        "list2=['x','y','z']\n",
        "result=[i * num for num in range(1,5) for i in list1]\n",
        "result"
      ],
      "execution_count": 0,
      "outputs": [
        {
          "output_type": "execute_result",
          "data": {
            "text/plain": [
              "['x', 'y', 'z', 'xx', 'yy', 'zz', 'xxx', 'yyy', 'zzz', 'xxxx', 'yyyy', 'zzzz']"
            ]
          },
          "metadata": {
            "tags": []
          },
          "execution_count": 6
        }
      ]
    },
    {
      "cell_type": "code",
      "metadata": {
        "id": "6VVZI9_jv5_T",
        "colab_type": "code",
        "outputId": "37e18be3-e0e4-42ea-c5f7-bc69e0930be5",
        "colab": {
          "base_uri": "https://localhost:8080/",
          "height": 34
        }
      },
      "source": [
        "input_list = [2,3,4]\n",
        "result = [ [item+num] for item in input_list for num in range(0,3)]\n",
        "print(\"[2,3,4] =>\" +  str(result))"
      ],
      "execution_count": 0,
      "outputs": [
        {
          "output_type": "stream",
          "text": [
            "[2,3,4] =>[[2], [3], [4], [3], [4], [5], [4], [5], [6]]\n"
          ],
          "name": "stdout"
        }
      ]
    },
    {
      "cell_type": "code",
      "metadata": {
        "id": "lV39a9tuwZOB",
        "colab_type": "code",
        "outputId": "c0f59b7c-a840-4342-d3a2-43a3cc9342c5",
        "colab": {
          "base_uri": "https://localhost:8080/",
          "height": 34
        }
      },
      "source": [
        "input_list=[2,3,4,5]\n",
        "result=[[item+num for item in input_list] for num in range(0,4)]\n",
        "print(\"[2,3,4,5] =>\"+str(result))"
      ],
      "execution_count": 0,
      "outputs": [
        {
          "output_type": "stream",
          "text": [
            "[2,3,4,5] =>[[2, 3, 4, 5], [3, 4, 5, 6], [4, 5, 6, 7], [5, 6, 7, 8]]\n"
          ],
          "name": "stdout"
        }
      ]
    },
    {
      "cell_type": "code",
      "metadata": {
        "id": "O5q5wY2-yDSZ",
        "colab_type": "code",
        "outputId": "2b6b3634-9f4e-48f0-afe5-2ed6bf98dd7a",
        "colab": {
          "base_uri": "https://localhost:8080/",
          "height": 34
        }
      },
      "source": [
        "input_list=[1,2,3]\n",
        "result=[(a,b) for b in input_list for a in input_list]\n",
        "result"
      ],
      "execution_count": 0,
      "outputs": [
        {
          "output_type": "execute_result",
          "data": {
            "text/plain": [
              "[(1, 1), (2, 1), (3, 1), (1, 2), (2, 2), (3, 2), (1, 3), (2, 3), (3, 3)]"
            ]
          },
          "metadata": {
            "tags": []
          },
          "execution_count": 15
        }
      ]
    },
    {
      "cell_type": "markdown",
      "metadata": {
        "id": "oS_2JGyRyy0z",
        "colab_type": "text"
      },
      "source": [
        "**Q3** Implement a function longestWord() that takes a list of words and returns the longest one."
      ]
    },
    {
      "cell_type": "code",
      "metadata": {
        "id": "Yl97VDXwylyK",
        "colab_type": "code",
        "colab": {}
      },
      "source": [
        "def longestWord(my_list):\n",
        "  result=my_list[0]\n",
        "  for item in my_list:\n",
        "    if(len(item)>len(result)):\n",
        "      result=item\n",
        "  return result"
      ],
      "execution_count": 0,
      "outputs": []
    },
    {
      "cell_type": "code",
      "metadata": {
        "id": "RRAfCQ1M0Mbg",
        "colab_type": "code",
        "outputId": "6d2e335e-dc0c-4da2-9365-642622f78a96",
        "colab": {
          "base_uri": "https://localhost:8080/",
          "height": 34
        }
      },
      "source": [
        "input_list= ['aakash','gagandeep','shreya']\n",
        "longestWord(input_list)"
      ],
      "execution_count": 0,
      "outputs": [
        {
          "output_type": "execute_result",
          "data": {
            "text/plain": [
              "'gagandeep'"
            ]
          },
          "metadata": {
            "tags": []
          },
          "execution_count": 26
        }
      ]
    },
    {
      "cell_type": "markdown",
      "metadata": {
        "id": "w6U143KP2G7K",
        "colab_type": "text"
      },
      "source": [
        "**Task 2**\n",
        "**Q1.1** Write a Python Program(with class concepts) to find the area of the triangle using the below\n",
        "formula.\n",
        "area = (s*(s-a)*(s-b)*(s-c)) ** 0.5\n",
        "Function to take the length of the sides of triangle from user should be defined in the parent\n",
        "class and function to calculate the area should be defined in subclass."
      ]
    },
    {
      "cell_type": "code",
      "metadata": {
        "id": "6l1q_yvQ5VNu",
        "colab_type": "code",
        "colab": {
          "base_uri": "https://localhost:8080/",
          "height": 86
        },
        "outputId": "3453baf6-c594-4e6d-fb24-6531998e1822"
      },
      "source": [
        "class poly:\n",
        "    def __init__(self,a,b,c):\n",
        "        self.a = float(a)\n",
        "        self.b = float(b)\n",
        "        self.c = float(c)\n",
        "a= int(input(\"a=\"))\n",
        "b= int(input(\"b=\"))\n",
        "c= int(input(\"c=\"))\n",
        "\n",
        "class triangle(poly):\n",
        "    def __init__(self,a,b,c):\n",
        "        super().__init__(a,b,c)\n",
        "\n",
        "    def get_area(self):\n",
        "        s = (a + b + c) / 2\n",
        "        return (s*(s-a)*(s-b)*(s-c)) ** 0.5        \n",
        "\n",
        "t = triangle(a,b,c)\n",
        "print(\"area : {}\".format(t.get_area()))"
      ],
      "execution_count": 7,
      "outputs": [
        {
          "output_type": "stream",
          "text": [
            "a=2\n",
            "b=3\n",
            "c=4\n",
            "area : 2.9047375096555625\n"
          ],
          "name": "stdout"
        }
      ]
    },
    {
      "cell_type": "markdown",
      "metadata": {
        "id": "oWwmQ2bU7xRu",
        "colab_type": "text"
      },
      "source": [
        "**Q1.2** Write a function filter_long_words() that takes a list of words and an integer n and returns the list\n",
        "of words that are longer than n."
      ]
    },
    {
      "cell_type": "code",
      "metadata": {
        "id": "oV2Kz42v77Ki",
        "colab_type": "code",
        "colab": {}
      },
      "source": [
        "def filter_long_words(list_words,n):\n",
        "  result=[]\n",
        "  for word in list_words:\n",
        "    if(len(word)>n):\n",
        "      result.append(word)\n",
        "  return result"
      ],
      "execution_count": 0,
      "outputs": []
    },
    {
      "cell_type": "code",
      "metadata": {
        "id": "jtOb-eH98Wlq",
        "colab_type": "code",
        "colab": {
          "base_uri": "https://localhost:8080/",
          "height": 34
        },
        "outputId": "e0692ca6-aa5c-4d9d-f38c-7a60d4b66584"
      },
      "source": [
        "list1=['abcd','rosh','joshy','kjkjkji','ofhofcr']\n",
        "n=3\n",
        "filter_long_words(list1,n)"
      ],
      "execution_count": 10,
      "outputs": [
        {
          "output_type": "execute_result",
          "data": {
            "text/plain": [
              "['abcd', 'rosh', 'joshy', 'kjkjkji', 'ofhofcr']"
            ]
          },
          "metadata": {
            "tags": []
          },
          "execution_count": 10
        }
      ]
    },
    {
      "cell_type": "markdown",
      "metadata": {
        "id": "SzpW097P8tUT",
        "colab_type": "text"
      },
      "source": [
        "**Q2.1** Write a Python program using function concept that maps list of words into a list of integers\n",
        "representing the lengths of the corresponding words."
      ]
    },
    {
      "cell_type": "code",
      "metadata": {
        "id": "eZggkaBE8g2G",
        "colab_type": "code",
        "colab": {}
      },
      "source": [
        "def word_2_length(list_words):\n",
        "  result=[]\n",
        "  for word in list_words:\n",
        "    result.append(len(word))\n",
        "  return result"
      ],
      "execution_count": 0,
      "outputs": []
    },
    {
      "cell_type": "code",
      "metadata": {
        "id": "8RdOjLix9Svd",
        "colab_type": "code",
        "colab": {
          "base_uri": "https://localhost:8080/",
          "height": 34
        },
        "outputId": "59434a2a-103a-4b31-ca9c-a75c3c3f4f4b"
      },
      "source": [
        "word_2_length(list1)"
      ],
      "execution_count": 12,
      "outputs": [
        {
          "output_type": "execute_result",
          "data": {
            "text/plain": [
              "[4, 4, 5, 7, 7]"
            ]
          },
          "metadata": {
            "tags": []
          },
          "execution_count": 12
        }
      ]
    },
    {
      "cell_type": "markdown",
      "metadata": {
        "id": "jSs3rP1M9dYp",
        "colab_type": "text"
      },
      "source": [
        "**Q2.2** Write a Python function which takes a character (i.e. a string of length 1) and returns True if it is\n",
        "a vowel, False otherwise."
      ]
    },
    {
      "cell_type": "code",
      "metadata": {
        "id": "4EgDMXAI9W7m",
        "colab_type": "code",
        "colab": {}
      },
      "source": [
        "def isVowel(character):\n",
        "  vowel=['a','e','i','o','u']\n",
        "  character=character.lower()\n",
        "  if character in vowel:\n",
        "    return True\n",
        "  return False"
      ],
      "execution_count": 0,
      "outputs": []
    },
    {
      "cell_type": "code",
      "metadata": {
        "id": "6W0X1yY--fe7",
        "colab_type": "code",
        "colab": {
          "base_uri": "https://localhost:8080/",
          "height": 34
        },
        "outputId": "6bfd90e4-117a-4307-abc1-9ec3a7cbe110"
      },
      "source": [
        "isVowel('u')"
      ],
      "execution_count": 27,
      "outputs": [
        {
          "output_type": "execute_result",
          "data": {
            "text/plain": [
              "True"
            ]
          },
          "metadata": {
            "tags": []
          },
          "execution_count": 27
        }
      ]
    },
    {
      "cell_type": "code",
      "metadata": {
        "id": "Z0TwVeVP-g8-",
        "colab_type": "code",
        "colab": {}
      },
      "source": [
        ""
      ],
      "execution_count": 0,
      "outputs": []
    }
  ]
}